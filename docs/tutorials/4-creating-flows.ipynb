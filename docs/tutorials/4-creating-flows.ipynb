{
 "cells": [
  {
   "attachments": {},
   "cell_type": "markdown",
   "id": "1b3c4fe2",
   "metadata": {},
   "source": [
    "# Creating flows in jobflow\n",
    "\n",
    "In this tutorial, you will:\n",
    "\n",
    "- Learn about the `Flow` object.\n",
    "- Set the configuration settings of a flow and its jobs.\n",
    "\n",
    "The purpose of this tutorial is to delve into the basic functionality of flows and gain a feeling for what is possible. Later tutorials will describe how to create dynamic flows.\n",
    "\n",
    "## Creating job objects\n",
    "\n",
    "The building block of jobflows are `Job` objects. Jobs are delayed calls to python functions whose outputs are stored in a database. The easiest way to create a job is using the `@job` decorator. The job decorator can be applied to any function, even those with optional parameters.\n"
   ]
  },
  {
   "cell_type": "code",
   "execution_count": 35,
   "id": "0e85b3d5",
   "metadata": {},
   "outputs": [],
   "source": [
    "import warnings\n",
    "\n",
    "warnings.filterwarnings(\"ignore\", \"Using `tqdm.autonotebook.tqdm`\")"
   ]
  },
  {
   "attachments": {},
   "cell_type": "markdown",
   "id": "4463657f",
   "metadata": {},
   "source": [
    "We will start by defining two simple jobs that we will stitch together into a flow.\n"
   ]
  },
  {
   "cell_type": "code",
   "execution_count": 36,
   "id": "52dd89f0",
   "metadata": {},
   "outputs": [],
   "source": [
    "from jobflow import job\n",
    "\n",
    "@job\n",
    "def add(a, b, c=2):\n",
    "    return a + b + c\n",
    "\n",
    "@job\n",
    "def mult(a, b):\n",
    "    return a * b"
   ]
  },
  {
   "attachments": {},
   "cell_type": "markdown",
   "id": "b6c9a03f",
   "metadata": {},
   "source": [
    "To combine these two `Job` objects into a single workflow, we can take advantage of the `Flow` constructor in Jobflow.\n"
   ]
  },
  {
   "cell_type": "code",
   "execution_count": 37,
   "id": "98af49d6",
   "metadata": {},
   "outputs": [],
   "source": [
    "from jobflow import Flow\n",
    "\n",
    "job1 = add(1, 2)\n",
    "job2 = mult(job1.output, 3)\n",
    "\n",
    "flow = Flow([job1, job2], name=\"my-flow\")"
   ]
  },
  {
   "attachments": {},
   "cell_type": "markdown",
   "id": "646762e1",
   "metadata": {},
   "source": [
    "Because `job2` depends on the output of `job1`, it will only run if/when `job1` completes successfully. Jobflow will automatically determine the connectivity of the jobs and run them accordingly. Here, we have also given the flow an optional name, which can be useful for tracking purposes.\n",
    "\n",
    "We can run the flow locally by calling the `run_locally` function.\n"
   ]
  },
  {
   "cell_type": "code",
   "execution_count": 38,
   "id": "be0616ce",
   "metadata": {},
   "outputs": [
    {
     "name": "stdout",
     "output_type": "stream",
     "text": [
      "2023-06-07 20:25:22,581 INFO Started executing jobs locally\n",
      "2023-06-07 20:25:22,582 INFO Starting job - add (c7e3f989-b2a5-4c9d-8472-7cbc195970c6)\n",
      "2023-06-07 20:25:22,584 INFO Finished job - add (c7e3f989-b2a5-4c9d-8472-7cbc195970c6)\n",
      "2023-06-07 20:25:22,586 INFO Starting job - mult (e8266c45-d01a-40aa-8457-deda5603b9e1)\n",
      "2023-06-07 20:25:22,587 INFO Finished job - mult (e8266c45-d01a-40aa-8457-deda5603b9e1)\n",
      "2023-06-07 20:25:22,588 INFO Finished executing jobs locally\n"
     ]
    }
   ],
   "source": [
    "from jobflow.managers.local import run_locally\n",
    "\n",
    "responses = run_locally(flow)"
   ]
  },
  {
   "attachments": {},
   "cell_type": "markdown",
   "id": "f4b08b78",
   "metadata": {},
   "source": [
    "The output contains a UUID for each `job` in the flow along with the outputs for each job.\n"
   ]
  },
  {
   "cell_type": "code",
   "execution_count": 39,
   "id": "b2198205",
   "metadata": {},
   "outputs": [
    {
     "name": "stdout",
     "output_type": "stream",
     "text": [
      "{'c7e3f989-b2a5-4c9d-8472-7cbc195970c6': {1: Response(output=5, detour=None, addition=None, replace=None, stored_data=None, stop_children=False, stop_jobflow=False)}, 'e8266c45-d01a-40aa-8457-deda5603b9e1': {1: Response(output=15, detour=None, addition=None, replace=None, stored_data=None, stop_children=False, stop_jobflow=False)}}\n"
     ]
    }
   ],
   "source": [
    "print(responses)"
   ]
  }
 ],
 "metadata": {
  "kernelspec": {
   "display_name": "cms",
   "language": "python",
   "name": "python3"
  },
  "language_info": {
   "codemirror_mode": {
    "name": "ipython",
    "version": 3
   },
   "file_extension": ".py",
   "mimetype": "text/x-python",
   "name": "python",
   "nbconvert_exporter": "python",
   "pygments_lexer": "ipython3",
   "version": "3.9.16"
  }
 },
 "nbformat": 4,
 "nbformat_minor": 5
}
