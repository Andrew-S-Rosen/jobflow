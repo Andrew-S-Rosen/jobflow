{
 "cells": [
  {
   "cell_type": "markdown",
   "id": "1b3c4fe2",
   "metadata": {},
   "source": [
    "# Creating dynamic flows\n",
    "\n",
    "In this tutorial, you will:\n",
    "\n",
    "- Learn how to create dynamic workflows.\n",
    "- Understand the `detour`, `addition`, and `replace` options in the `Response` object.\n",
    "\n",
    "The ability create dynamic workflows (i.e. jobs or workflows that launch other jobs or workflows) is\n",
    "a particularly powerful usage pattern in Jobflow.\n"
   ]
  },
  {
   "cell_type": "markdown",
   "id": "3aaaefe9",
   "metadata": {},
   "source": [
    "## The `Response(replace)` option\n"
   ]
  },
  {
   "cell_type": "markdown",
   "id": "873b4b62",
   "metadata": {},
   "source": [
    "The main mechanism for creating dynamic jobs in Jobflow is through the `Response` object. We will demonstrate this below for a toy example where we:\n",
    "\n",
    "1. Generate a list of numbers whose length is only determined at runtime.\n",
    "2. Perform a toy operation on each number in the list.\n",
    "\n",
    "While this is a trivial example, a similar usage is common in computational materials science (e.g. you might perform a calculation on a bulk structure, carve all possible surface slabs, and then perform a calculation on each slab). What makes this dynamic is that the number of jobs is only determined at runtime.\n"
   ]
  },
  {
   "cell_type": "code",
   "execution_count": 2,
   "id": "78348798",
   "metadata": {
    "nbsphinx": "hidden",
    "tags": [],
    "ExecuteTime": {
     "end_time": "2023-11-23T22:46:57.984085360Z",
     "start_time": "2023-11-23T22:46:57.166923399Z"
    }
   },
   "outputs": [],
   "source": [
    "import warnings\n",
    "\n",
    "warnings.filterwarnings(\"ignore\", \"Using `tqdm.autonotebook.tqdm`\")"
   ]
  },
  {
   "cell_type": "code",
   "execution_count": 3,
   "id": "964a8c44",
   "metadata": {
    "ExecuteTime": {
     "end_time": "2023-11-23T22:46:58.036098609Z",
     "start_time": "2023-11-23T22:46:57.208641695Z"
    }
   },
   "outputs": [
    {
     "name": "stdout",
     "output_type": "stream",
     "text": [
      "2023-11-23 23:46:57,177 INFO Started executing jobs locally\n",
      "2023-11-23 23:46:57,179 INFO Starting job - make_list (16fc2fd0-c9c7-420d-b0e1-3e6b5802c744)\n",
      "2023-11-23 23:46:57,182 INFO Finished job - make_list (16fc2fd0-c9c7-420d-b0e1-3e6b5802c744)\n",
      "2023-11-23 23:46:57,183 INFO Starting job - add_distributed (536e3c78-7d59-43ed-9f4f-72ce9b3793ef)\n",
      "2023-11-23 23:46:57,191 INFO Finished job - add_distributed (536e3c78-7d59-43ed-9f4f-72ce9b3793ef)\n",
      "2023-11-23 23:46:57,193 INFO Starting job - add (44007968-8394-442f-ba96-d52dc30a80ce)\n",
      "2023-11-23 23:46:57,195 INFO Finished job - add (44007968-8394-442f-ba96-d52dc30a80ce)\n",
      "2023-11-23 23:46:57,196 INFO Starting job - add (1af57ed7-3594-4180-b550-787c5f029d9f)\n",
      "2023-11-23 23:46:57,198 INFO Finished job - add (1af57ed7-3594-4180-b550-787c5f029d9f)\n",
      "2023-11-23 23:46:57,199 INFO Starting job - add (f7ea9158-40f8-4439-9d18-b6b6fb3e9289)\n",
      "2023-11-23 23:46:57,201 INFO Finished job - add (f7ea9158-40f8-4439-9d18-b6b6fb3e9289)\n",
      "2023-11-23 23:46:57,202 INFO Starting job - add (72c752d3-208a-45ce-bbb6-625e4debed73)\n",
      "2023-11-23 23:46:57,204 INFO Finished job - add (72c752d3-208a-45ce-bbb6-625e4debed73)\n",
      "2023-11-23 23:46:57,205 INFO Finished executing jobs locally\n"
     ]
    },
    {
     "name": "stderr",
     "output_type": "stream",
     "text": [
      "/home/jgeorge/miniconda3/envs/AddJobflowTutorial/lib/python3.10/site-packages/jobflow/utils/graph.py:49: UserWarning: Some jobs are not connected, their ordering may be random\n",
      "  warnings.warn(\"Some jobs are not connected, their ordering may be random\")\n"
     ]
    }
   ],
   "source": [
    "from random import randint\n",
    "from jobflow import job, Flow, Response\n",
    "from jobflow.managers.local import run_locally\n",
    "\n",
    "@job\n",
    "def make_list(a):\n",
    "    return [a] * randint(2, 5)\n",
    "\n",
    "@job\n",
    "def add(a, b):\n",
    "    return a + b\n",
    "\n",
    "@job\n",
    "def add_distributed(list_a):\n",
    "    jobs = []\n",
    "    for val in list_a:\n",
    "        jobs.append(add(val, 1))\n",
    "    \n",
    "    flow = Flow(jobs)\n",
    "    return Response(replace=flow)\n",
    "\n",
    "job1 = make_list(2)\n",
    "job2 = add_distributed(job1.output)\n",
    "flow = Flow([job1, job2])\n",
    "\n",
    "responses = run_locally(flow)"
   ]
  },
  {
   "cell_type": "code",
   "execution_count": 4,
   "id": "82e368e6",
   "metadata": {
    "ExecuteTime": {
     "end_time": "2023-11-23T22:46:58.037599975Z",
     "start_time": "2023-11-23T22:46:57.233955503Z"
    }
   },
   "outputs": [
    {
     "name": "stdout",
     "output_type": "stream",
     "text": [
      "16fc2fd0-c9c7-420d-b0e1-3e6b5802c744 -> {1: Response(output=[2, 2, 2, 2], detour=None, addition=None, replace=None, stored_data=None, stop_children=False, stop_jobflow=False)}\n",
      "536e3c78-7d59-43ed-9f4f-72ce9b3793ef -> {1: Response(output=None, detour=None, addition=None, replace=Flow(name='Flow', uuid='1d51c5df-174a-41c8-b017-98494c8411f1')\n",
      "1. Job(name='add', uuid='44007968-8394-442f-ba96-d52dc30a80ce')\n",
      "2. Job(name='add', uuid='1af57ed7-3594-4180-b550-787c5f029d9f')\n",
      "3. Job(name='add', uuid='f7ea9158-40f8-4439-9d18-b6b6fb3e9289')\n",
      "4. Job(name='add', uuid='72c752d3-208a-45ce-bbb6-625e4debed73'), stored_data=None, stop_children=False, stop_jobflow=False)}\n",
      "44007968-8394-442f-ba96-d52dc30a80ce -> {1: Response(output=3, detour=None, addition=None, replace=None, stored_data=None, stop_children=False, stop_jobflow=False)}\n",
      "1af57ed7-3594-4180-b550-787c5f029d9f -> {1: Response(output=3, detour=None, addition=None, replace=None, stored_data=None, stop_children=False, stop_jobflow=False)}\n",
      "f7ea9158-40f8-4439-9d18-b6b6fb3e9289 -> {1: Response(output=3, detour=None, addition=None, replace=None, stored_data=None, stop_children=False, stop_jobflow=False)}\n",
      "72c752d3-208a-45ce-bbb6-625e4debed73 -> {1: Response(output=3, detour=None, addition=None, replace=None, stored_data=None, stop_children=False, stop_jobflow=False)}\n"
     ]
    }
   ],
   "source": [
    "for uuid, response in responses.items():\n",
    "    print(f\"{uuid} -> {response}\")"
   ]
  },
  {
   "cell_type": "markdown",
   "id": "dfeab63a",
   "metadata": {},
   "source": [
    "As seen above, there are several jobs that were run --- certainly more than the two we started with. The first job generates a list of 2's with a random length. The second job in the flow is what launches a job on each entry in the list. It is replaced by one job for each entry, hence it has no direct output. Then each newly generated job is run.\n"
   ]
  },
  {
   "cell_type": "markdown",
   "id": "98052193",
   "metadata": {},
   "source": [
    "## The `Response(addition)` option\n"
   ]
  },
  {
   "cell_type": "markdown",
   "id": "e7d78588",
   "metadata": {},
   "source": [
    "Beyond replacing a job with downstream jobs, there is also the option to add jobs to the current flow on-the-fly.\n",
    "\n",
    "Here we will create a simple flow that:\n",
    "\n",
    "1. Adds a value to a given number.\n",
    "2. If the output is less than 10, do the addition again. Otherwise, stop.\n"
   ]
  },
  {
   "cell_type": "code",
   "execution_count": 5,
   "id": "81870e55",
   "metadata": {
    "ExecuteTime": {
     "end_time": "2023-11-23T22:46:58.041273240Z",
     "start_time": "2023-11-23T22:46:57.406089273Z"
    }
   },
   "outputs": [
    {
     "name": "stdout",
     "output_type": "stream",
     "text": [
      "2023-11-23 23:46:57,406 INFO Started executing jobs locally\n",
      "2023-11-23 23:46:57,408 INFO Starting job - add (34ba86a3-99cd-461e-bc17-511fdf6e08ec)\n",
      "2023-11-23 23:46:57,411 INFO Finished job - add (34ba86a3-99cd-461e-bc17-511fdf6e08ec)\n",
      "2023-11-23 23:46:57,412 INFO Starting job - add_with_logic (349afb69-d732-44b8-b770-2500f44511f9)\n",
      "2023-11-23 23:46:57,421 INFO Finished job - add_with_logic (349afb69-d732-44b8-b770-2500f44511f9)\n",
      "2023-11-23 23:46:57,422 INFO Starting job - add (64e623da-cf31-485e-9ed1-1f996a955868)\n",
      "2023-11-23 23:46:57,424 INFO Finished job - add (64e623da-cf31-485e-9ed1-1f996a955868)\n",
      "2023-11-23 23:46:57,425 INFO Finished executing jobs locally\n"
     ]
    }
   ],
   "source": [
    "@job\n",
    "def add(a, b):\n",
    "    return a + b\n",
    "\n",
    "@job\n",
    "def add_with_logic(a, b):\n",
    "    if a < 10:\n",
    "        return Response(addition=add(a, b))\n",
    "    \n",
    "job1 = add(1, 2)\n",
    "job2 = add_with_logic(job1.output, 2)\n",
    "flow = Flow([job1, job2])\n",
    "\n",
    "responses = run_locally(flow)"
   ]
  },
  {
   "cell_type": "code",
   "execution_count": 6,
   "id": "fdc68eb5",
   "metadata": {
    "ExecuteTime": {
     "end_time": "2023-11-23T22:46:58.046206634Z",
     "start_time": "2023-11-23T22:46:57.448864584Z"
    }
   },
   "outputs": [
    {
     "name": "stdout",
     "output_type": "stream",
     "text": [
      "34ba86a3-99cd-461e-bc17-511fdf6e08ec -> {1: Response(output=3, detour=None, addition=None, replace=None, stored_data=None, stop_children=False, stop_jobflow=False)}\n",
      "349afb69-d732-44b8-b770-2500f44511f9 -> {1: Response(output=None, detour=None, addition=Flow(name='Flow', uuid='20581dd8-b00e-424b-94ad-7f2b2f4a240b')\n",
      "1. Job(name='add', uuid='64e623da-cf31-485e-9ed1-1f996a955868'), replace=None, stored_data=None, stop_children=False, stop_jobflow=False)}\n",
      "64e623da-cf31-485e-9ed1-1f996a955868 -> {1: Response(output=5, detour=None, addition=None, replace=None, stored_data=None, stop_children=False, stop_jobflow=False)}\n"
     ]
    }
   ],
   "source": [
    "for uuid, response in responses.items():\n",
    "    print(f\"{uuid} -> {response}\")"
   ]
  },
  {
   "cell_type": "markdown",
   "id": "997dd2a9",
   "metadata": {},
   "source": [
    "As you can see above, the addition job is correctly run twice. Now let's confirm that the addition job is only run once if the output of the first job is greater than 10.\n"
   ]
  },
  {
   "cell_type": "code",
   "execution_count": 7,
   "id": "27569bd7",
   "metadata": {
    "ExecuteTime": {
     "end_time": "2023-11-23T22:46:58.090608163Z",
     "start_time": "2023-11-23T22:46:57.481314817Z"
    }
   },
   "outputs": [
    {
     "name": "stdout",
     "output_type": "stream",
     "text": [
      "2023-11-23 23:46:57,479 INFO Started executing jobs locally\n",
      "2023-11-23 23:46:57,481 INFO Starting job - add (0ae20220-b69c-4e6b-827a-2f046b00d504)\n",
      "2023-11-23 23:46:57,484 INFO Finished job - add (0ae20220-b69c-4e6b-827a-2f046b00d504)\n",
      "2023-11-23 23:46:57,485 INFO Starting job - add_with_logic (145dea09-be6c-47fc-ac46-c9a6908323e7)\n",
      "2023-11-23 23:46:57,490 INFO Finished job - add_with_logic (145dea09-be6c-47fc-ac46-c9a6908323e7)\n",
      "2023-11-23 23:46:57,491 INFO Finished executing jobs locally\n"
     ]
    }
   ],
   "source": [
    "@job\n",
    "def add(a, b):\n",
    "    return a + b\n",
    "\n",
    "@job\n",
    "def add_with_logic(a, b):\n",
    "    if a < 10:\n",
    "        return Response(addition=add(a, b))\n",
    "    \n",
    "job1 = add(1, 20)\n",
    "job2 = add_with_logic(job1.output, 20)\n",
    "flow = Flow([job1, job2])\n",
    "\n",
    "responses = run_locally(flow)"
   ]
  },
  {
   "cell_type": "code",
   "execution_count": 8,
   "id": "b8d0c011",
   "metadata": {
    "ExecuteTime": {
     "end_time": "2023-11-23T22:46:58.092445839Z",
     "start_time": "2023-11-23T22:46:57.524568954Z"
    }
   },
   "outputs": [
    {
     "name": "stdout",
     "output_type": "stream",
     "text": [
      "0ae20220-b69c-4e6b-827a-2f046b00d504 -> {1: Response(output=21, detour=None, addition=None, replace=None, stored_data=None, stop_children=False, stop_jobflow=False)}\n",
      "145dea09-be6c-47fc-ac46-c9a6908323e7 -> {1: Response(output=None, detour=None, addition=None, replace=None, stored_data=None, stop_children=False, stop_jobflow=False)}\n"
     ]
    }
   ],
   "source": [
    "for uuid, response in responses.items():\n",
    "    print(f\"{uuid} -> {response}\")"
   ]
  },
  {
   "cell_type": "markdown",
   "id": "49de1eae",
   "metadata": {},
   "source": [
    "Now, we see that the `Response(addition)` does not launch a new job.\n"
   ]
  },
  {
   "cell_type": "markdown",
   "source": [
    "In this way, one can also compute the Fibonacci numbers:"
   ],
   "metadata": {
    "collapsed": false
   }
  },
  {
   "cell_type": "code",
   "execution_count": 9,
   "outputs": [
    {
     "name": "stdout",
     "output_type": "stream",
     "text": [
      "2023-11-23 23:46:57,625 INFO Started executing jobs locally\n",
      "2023-11-23 23:46:57,626 INFO Starting job - fibonacci (81d7944a-bd5a-4edd-a67f-36d2312e506b)\n",
      "2023-11-23 23:46:57,630 INFO Finished job - fibonacci (81d7944a-bd5a-4edd-a67f-36d2312e506b)\n",
      "2023-11-23 23:46:57,631 INFO Starting job - fibonacci (3219e168-b719-409a-8dbd-94370c03e162)\n",
      "2023-11-23 23:46:57,634 INFO Finished job - fibonacci (3219e168-b719-409a-8dbd-94370c03e162)\n",
      "2023-11-23 23:46:57,636 INFO Starting job - fibonacci (98308b42-817b-4ee5-bf68-fefcf1bd0de3)\n",
      "2023-11-23 23:46:57,639 INFO Finished job - fibonacci (98308b42-817b-4ee5-bf68-fefcf1bd0de3)\n",
      "2023-11-23 23:46:57,640 INFO Starting job - fibonacci (57c73c23-9fbf-4f08-8e0f-7698027b632b)\n",
      "2023-11-23 23:46:57,643 INFO Finished job - fibonacci (57c73c23-9fbf-4f08-8e0f-7698027b632b)\n",
      "2023-11-23 23:46:57,644 INFO Starting job - fibonacci (33c81f02-e87b-4848-8780-a09de20041b1)\n",
      "2023-11-23 23:46:57,647 INFO Finished job - fibonacci (33c81f02-e87b-4848-8780-a09de20041b1)\n",
      "2023-11-23 23:46:57,648 INFO Starting job - fibonacci (690e4d45-9e9b-43d8-8865-2085cc0feee2)\n",
      "2023-11-23 23:46:57,650 INFO Finished job - fibonacci (690e4d45-9e9b-43d8-8865-2085cc0feee2)\n",
      "2023-11-23 23:46:57,651 INFO Starting job - fibonacci (8142cc72-a4e3-4884-a446-98f0bea98569)\n",
      "2023-11-23 23:46:57,655 INFO Finished job - fibonacci (8142cc72-a4e3-4884-a446-98f0bea98569)\n",
      "2023-11-23 23:46:57,656 INFO Starting job - fibonacci (c2b4ec59-5088-4daf-9dba-34a2a3fbe56e)\n",
      "2023-11-23 23:46:57,659 INFO Finished job - fibonacci (c2b4ec59-5088-4daf-9dba-34a2a3fbe56e)\n",
      "2023-11-23 23:46:57,660 INFO Starting job - fibonacci (2db909a8-14df-4bd1-89a8-d188948382f1)\n",
      "2023-11-23 23:46:57,663 INFO Finished job - fibonacci (2db909a8-14df-4bd1-89a8-d188948382f1)\n",
      "2023-11-23 23:46:57,664 INFO Starting job - fibonacci (273a46cc-4762-495e-a1d7-e4e26203f122)\n",
      "2023-11-23 23:46:57,666 INFO Finished job - fibonacci (273a46cc-4762-495e-a1d7-e4e26203f122)\n",
      "2023-11-23 23:46:57,667 INFO Starting job - fibonacci (3fe6a08d-74f9-406f-a219-fdd68f1f6ec9)\n",
      "2023-11-23 23:46:57,670 INFO Finished job - fibonacci (3fe6a08d-74f9-406f-a219-fdd68f1f6ec9)\n",
      "2023-11-23 23:46:57,671 INFO Starting job - fibonacci (5c44497a-4497-4bf2-a0ee-172abf1251eb)\n",
      "2023-11-23 23:46:57,674 INFO Finished job - fibonacci (5c44497a-4497-4bf2-a0ee-172abf1251eb)\n",
      "2023-11-23 23:46:57,675 INFO Starting job - fibonacci (1b21a0be-8b79-42ad-a13b-c43c7077d637)\n",
      "2023-11-23 23:46:57,678 INFO Finished job - fibonacci (1b21a0be-8b79-42ad-a13b-c43c7077d637)\n",
      "2023-11-23 23:46:57,679 INFO Starting job - fibonacci (a6af5fcc-2a3b-4a40-8620-28edadb64b9f)\n",
      "2023-11-23 23:46:57,682 INFO Finished job - fibonacci (a6af5fcc-2a3b-4a40-8620-28edadb64b9f)\n",
      "2023-11-23 23:46:57,683 INFO Starting job - fibonacci (552ad89c-3e1f-4385-8eb5-01a761a6f9f1)\n",
      "2023-11-23 23:46:57,686 INFO Finished job - fibonacci (552ad89c-3e1f-4385-8eb5-01a761a6f9f1)\n",
      "2023-11-23 23:46:57,687 INFO Finished executing jobs locally\n",
      "{'81d7944a-bd5a-4edd-a67f-36d2312e506b': {1: Response(output=2, detour=None, addition=Flow(name='Flow', uuid='b497505f-e73a-4324-99b4-2923d76bed6e')\n",
      "1. Job(name='fibonacci', uuid='3219e168-b719-409a-8dbd-94370c03e162'), replace=None, stored_data=None, stop_children=False, stop_jobflow=False)}, '3219e168-b719-409a-8dbd-94370c03e162': {1: Response(output=3, detour=None, addition=Flow(name='Flow', uuid='985aad5f-060f-4841-a2d0-edcdb4a4526d')\n",
      "1. Job(name='fibonacci', uuid='98308b42-817b-4ee5-bf68-fefcf1bd0de3'), replace=None, stored_data=None, stop_children=False, stop_jobflow=False)}, '98308b42-817b-4ee5-bf68-fefcf1bd0de3': {1: Response(output=5, detour=None, addition=Flow(name='Flow', uuid='076cc046-7ffe-40fe-a14d-5c97d9e92b40')\n",
      "1. Job(name='fibonacci', uuid='57c73c23-9fbf-4f08-8e0f-7698027b632b'), replace=None, stored_data=None, stop_children=False, stop_jobflow=False)}, '57c73c23-9fbf-4f08-8e0f-7698027b632b': {1: Response(output=8, detour=None, addition=Flow(name='Flow', uuid='38b57dd4-ddb1-425c-8153-5e2c195942da')\n",
      "1. Job(name='fibonacci', uuid='33c81f02-e87b-4848-8780-a09de20041b1'), replace=None, stored_data=None, stop_children=False, stop_jobflow=False)}, '33c81f02-e87b-4848-8780-a09de20041b1': {1: Response(output=13, detour=None, addition=Flow(name='Flow', uuid='057e0e16-62d3-461e-a13b-9d86c5f72780')\n",
      "1. Job(name='fibonacci', uuid='690e4d45-9e9b-43d8-8865-2085cc0feee2'), replace=None, stored_data=None, stop_children=False, stop_jobflow=False)}, '690e4d45-9e9b-43d8-8865-2085cc0feee2': {1: Response(output=21, detour=None, addition=Flow(name='Flow', uuid='a2f5bb27-5539-48be-a706-04af3756eedf')\n",
      "1. Job(name='fibonacci', uuid='8142cc72-a4e3-4884-a446-98f0bea98569'), replace=None, stored_data=None, stop_children=False, stop_jobflow=False)}, '8142cc72-a4e3-4884-a446-98f0bea98569': {1: Response(output=34, detour=None, addition=Flow(name='Flow', uuid='c0b854aa-aae5-4277-b7e1-45416e65384e')\n",
      "1. Job(name='fibonacci', uuid='c2b4ec59-5088-4daf-9dba-34a2a3fbe56e'), replace=None, stored_data=None, stop_children=False, stop_jobflow=False)}, 'c2b4ec59-5088-4daf-9dba-34a2a3fbe56e': {1: Response(output=55, detour=None, addition=Flow(name='Flow', uuid='f31f638f-4147-4677-b8f5-72e44d9b12f9')\n",
      "1. Job(name='fibonacci', uuid='2db909a8-14df-4bd1-89a8-d188948382f1'), replace=None, stored_data=None, stop_children=False, stop_jobflow=False)}, '2db909a8-14df-4bd1-89a8-d188948382f1': {1: Response(output=89, detour=None, addition=Flow(name='Flow', uuid='5f5383a3-7b2d-4e86-98ca-66636006e6a3')\n",
      "1. Job(name='fibonacci', uuid='273a46cc-4762-495e-a1d7-e4e26203f122'), replace=None, stored_data=None, stop_children=False, stop_jobflow=False)}, '273a46cc-4762-495e-a1d7-e4e26203f122': {1: Response(output=144, detour=None, addition=Flow(name='Flow', uuid='4711a431-8976-4e7c-be1c-cb4962aab4a7')\n",
      "1. Job(name='fibonacci', uuid='3fe6a08d-74f9-406f-a219-fdd68f1f6ec9'), replace=None, stored_data=None, stop_children=False, stop_jobflow=False)}, '3fe6a08d-74f9-406f-a219-fdd68f1f6ec9': {1: Response(output=233, detour=None, addition=Flow(name='Flow', uuid='0dc7cb69-5797-4880-a8b7-c54f99490322')\n",
      "1. Job(name='fibonacci', uuid='5c44497a-4497-4bf2-a0ee-172abf1251eb'), replace=None, stored_data=None, stop_children=False, stop_jobflow=False)}, '5c44497a-4497-4bf2-a0ee-172abf1251eb': {1: Response(output=377, detour=None, addition=Flow(name='Flow', uuid='2469da06-bb02-4597-925c-df154d34115d')\n",
      "1. Job(name='fibonacci', uuid='1b21a0be-8b79-42ad-a13b-c43c7077d637'), replace=None, stored_data=None, stop_children=False, stop_jobflow=False)}, '1b21a0be-8b79-42ad-a13b-c43c7077d637': {1: Response(output=610, detour=None, addition=Flow(name='Flow', uuid='c92c422d-372c-45bd-9159-1ef9243c8f7f')\n",
      "1. Job(name='fibonacci', uuid='a6af5fcc-2a3b-4a40-8620-28edadb64b9f'), replace=None, stored_data=None, stop_children=False, stop_jobflow=False)}, 'a6af5fcc-2a3b-4a40-8620-28edadb64b9f': {1: Response(output=987, detour=None, addition=Flow(name='Flow', uuid='4e7d136c-a125-4c08-b660-247bea293d64')\n",
      "1. Job(name='fibonacci', uuid='552ad89c-3e1f-4385-8eb5-01a761a6f9f1'), replace=None, stored_data=None, stop_children=False, stop_jobflow=False)}, '552ad89c-3e1f-4385-8eb5-01a761a6f9f1': {1: Response(output=1597, detour=None, addition=None, replace=None, stored_data=None, stop_children=False, stop_jobflow=False)}}\n"
     ]
    }
   ],
   "source": [
    "\"\"\"A dynamic workflow that calculates the Fibonacci sequence.\"\"\"\n",
    "from jobflow import Response, job, run_locally\n",
    "\n",
    "\n",
    "@job\n",
    "def fibonacci(smaller, larger, stop_point=1000):\n",
    "    \"\"\"Calculate the next number in the Fibonacci sequence.\n",
    "\n",
    "    If the number is larger than stop_point, the job will stop the workflow\n",
    "    execution, otherwise, a new job will be submitted to calculate the next number.\n",
    "    \"\"\"\n",
    "    total = smaller + larger\n",
    "\n",
    "    if total > stop_point:\n",
    "        return total\n",
    "\n",
    "    new_job = fibonacci(larger, total, stop_point=stop_point)\n",
    "    return Response(output=total, addition=new_job)\n",
    "\n",
    "\n",
    "fibonacci_job = fibonacci(1, 1)\n",
    "\n",
    "# run the job; responses will contain the output from all jobs\n",
    "responses = run_locally(fibonacci_job)\n",
    "print(responses)\n"
   ],
   "metadata": {
    "collapsed": false,
    "ExecuteTime": {
     "end_time": "2023-11-23T22:46:58.136876182Z",
     "start_time": "2023-11-23T22:46:57.625858812Z"
    }
   }
  },
  {
   "cell_type": "markdown",
   "id": "5c0122e3",
   "metadata": {},
   "source": [
    "## The `Response(detour)` option\n"
   ]
  },
  {
   "cell_type": "markdown",
   "id": "eca49a8b",
   "metadata": {},
   "source": [
    "The `Response(detour)` option behaves similarly to `Response(addition)`. The difference is that `Response(addition)` will add a job (or flow) to the current flow, while `Response(detour)` will no longer run the current flow and will switch to a parallel job or flow.\n"
   ]
  },
  {
   "cell_type": "code",
   "execution_count": 10,
   "id": "fee35a97",
   "metadata": {
    "ExecuteTime": {
     "end_time": "2023-11-23T22:46:58.142624609Z",
     "start_time": "2023-11-23T22:46:57.774129081Z"
    }
   },
   "outputs": [
    {
     "name": "stdout",
     "output_type": "stream",
     "text": [
      "2023-11-23 23:46:57,774 INFO Started executing jobs locally\n",
      "2023-11-23 23:46:57,775 INFO Starting job - add (55465994-efcd-4835-b92e-f7ea36765268)\n",
      "2023-11-23 23:46:57,778 INFO Finished job - add (55465994-efcd-4835-b92e-f7ea36765268)\n",
      "2023-11-23 23:46:57,779 INFO Starting job - add_with_logic (d6cf8229-dbcc-422c-8504-177c433f48ac)\n",
      "2023-11-23 23:46:57,786 INFO Finished job - add_with_logic (d6cf8229-dbcc-422c-8504-177c433f48ac)\n",
      "2023-11-23 23:46:57,788 INFO Starting job - add (996e6af8-c56f-4779-8135-00493dbf9298)\n",
      "2023-11-23 23:46:57,790 INFO Finished job - add (996e6af8-c56f-4779-8135-00493dbf9298)\n",
      "2023-11-23 23:46:57,791 INFO Finished executing jobs locally\n"
     ]
    }
   ],
   "source": [
    "@job\n",
    "def add(a, b):\n",
    "    return a + b\n",
    "\n",
    "@job\n",
    "def add_with_logic(a, b):\n",
    "    if a < 10:\n",
    "        return Response(detour=add(a, b))\n",
    "    \n",
    "job1 = add(1, 2)\n",
    "job2 = add_with_logic(job1.output, 2)\n",
    "flow = Flow([job1, job2])\n",
    "\n",
    "responses = run_locally(flow)"
   ]
  },
  {
   "cell_type": "code",
   "execution_count": 11,
   "id": "b3b7e8ba",
   "metadata": {
    "ExecuteTime": {
     "end_time": "2023-11-23T22:46:58.143531724Z",
     "start_time": "2023-11-23T22:46:57.816557390Z"
    }
   },
   "outputs": [
    {
     "data": {
      "text/plain": "{'55465994-efcd-4835-b92e-f7ea36765268': {1: Response(output=3, detour=None, addition=None, replace=None, stored_data=None, stop_children=False, stop_jobflow=False)},\n 'd6cf8229-dbcc-422c-8504-177c433f48ac': {1: Response(output=None, detour=Flow(name='Flow', uuid='98311314-8087-4787-b2ea-c89478ff2999')\n  1. Job(name='add', uuid='996e6af8-c56f-4779-8135-00493dbf9298'), addition=None, replace=None, stored_data=None, stop_children=False, stop_jobflow=False)},\n '996e6af8-c56f-4779-8135-00493dbf9298': {1: Response(output=5, detour=None, addition=None, replace=None, stored_data=None, stop_children=False, stop_jobflow=False)}}"
     },
     "execution_count": 11,
     "metadata": {},
     "output_type": "execute_result"
    }
   ],
   "source": [
    "responses"
   ]
  },
  {
   "cell_type": "markdown",
   "id": "69783c7e",
   "metadata": {},
   "source": [
    "For this toy example, both `Response(addition)` and `Response(detour)` behave identically.\n"
   ]
  }
 ],
 "metadata": {
  "kernelspec": {
   "name": "python3",
   "language": "python",
   "display_name": "Python 3 (ipykernel)"
  },
  "language_info": {
   "codemirror_mode": {
    "name": "ipython",
    "version": 3
   },
   "file_extension": ".py",
   "mimetype": "text/x-python",
   "name": "python",
   "nbconvert_exporter": "python",
   "pygments_lexer": "ipython3",
   "version": "3.9.6"
  }
 },
 "nbformat": 4,
 "nbformat_minor": 5
}
