{
 "cells": [
  {
   "attachments": {},
   "cell_type": "markdown",
   "id": "1b3c4fe2",
   "metadata": {},
   "source": [
    "# Creating dynamic flows\n",
    "\n",
    "In this tutorial, you will:\n",
    "\n",
    "- Learn how to create dynamic workflows.\n",
    "- Understand the `detour`, `addition`, and `replace` options in the `Response` object.\n",
    "\n",
    "The ability create dynamic workflows (i.e. jobs or workflows that launch other jobs or workflows) is\n",
    "a particularly powerful usage pattern in Jobflow.\n"
   ]
  },
  {
   "attachments": {},
   "cell_type": "markdown",
   "id": "3aaaefe9",
   "metadata": {},
   "source": [
    "## The `Response(replace)` option\n"
   ]
  },
  {
   "attachments": {},
   "cell_type": "markdown",
   "id": "873b4b62",
   "metadata": {},
   "source": [
    "The main mechanism for creating dynamic jobs in Jobflow is through the `Response` object. We will demonstrate this below for a toy example where we:\n",
    "\n",
    "1. Generate a list of numbers whose length is only determined at runtime.\n",
    "2. Perform a toy operation on each number in the list.\n",
    "\n",
    "While this is a trivial example, a similar usage is common in computational materials science (e.g. you might perform a calculation on a bulk structure, carve all possible surface slabs, and then perform a calculation on each slab). What makes this dynamic is that the number of jobs is only determined at runtime.\n"
   ]
  },
  {
   "cell_type": "code",
   "execution_count": 23,
   "id": "78348798",
   "metadata": {},
   "outputs": [],
   "source": [
    "import warnings\n",
    "\n",
    "warnings.filterwarnings(\"ignore\", \"Using `tqdm.autonotebook.tqdm`\")"
   ]
  },
  {
   "cell_type": "code",
   "execution_count": 24,
   "id": "964a8c44",
   "metadata": {},
   "outputs": [
    {
     "name": "stdout",
     "output_type": "stream",
     "text": [
      "2023-06-07 22:51:51,721 INFO Started executing jobs locally\n",
      "2023-06-07 22:51:51,723 INFO Starting job - make_list (7291e79a-5282-4dcd-b3e6-e64e8f6d66e6)\n",
      "2023-06-07 22:51:51,725 INFO Finished job - make_list (7291e79a-5282-4dcd-b3e6-e64e8f6d66e6)\n",
      "2023-06-07 22:51:51,727 INFO Starting job - add_distributed (ab37265d-115b-4322-b8d7-0aebd4fedf7a)\n",
      "2023-06-07 22:51:51,730 INFO Finished job - add_distributed (ab37265d-115b-4322-b8d7-0aebd4fedf7a)\n",
      "2023-06-07 22:51:51,733 INFO Starting job - add (c070dd14-10b3-403b-b331-6c1d0878390b)\n",
      "2023-06-07 22:51:51,734 INFO Finished job - add (c070dd14-10b3-403b-b331-6c1d0878390b)\n",
      "2023-06-07 22:51:51,736 INFO Starting job - add (317bcdd3-7844-46e0-ab4d-c9064b5e1f12)\n",
      "2023-06-07 22:51:51,737 INFO Finished job - add (317bcdd3-7844-46e0-ab4d-c9064b5e1f12)\n",
      "2023-06-07 22:51:51,738 INFO Starting job - add (67bbd11b-869b-466c-883f-f361648ee7a6)\n",
      "2023-06-07 22:51:51,739 INFO Finished job - add (67bbd11b-869b-466c-883f-f361648ee7a6)\n",
      "2023-06-07 22:51:51,740 INFO Finished executing jobs locally\n"
     ]
    },
    {
     "name": "stderr",
     "output_type": "stream",
     "text": [
      "c:\\Users\\asros\\miniconda3\\envs\\cms\\lib\\site-packages\\jobflow\\utils\\graph.py:53: UserWarning: Some jobs are not connected, their ordering may be random\n",
      "  warnings.warn(\"Some jobs are not connected, their ordering may be random\")\n"
     ]
    }
   ],
   "source": [
    "from random import randint\n",
    "from jobflow import job, Flow, Response\n",
    "from jobflow.managers.local import run_locally\n",
    "\n",
    "@job\n",
    "def make_list(a):\n",
    "    return [a] * randint(2, 5)\n",
    "\n",
    "@job\n",
    "def add(a, b):\n",
    "    return a + b\n",
    "\n",
    "@job\n",
    "def add_distributed(list_a):\n",
    "    jobs = []\n",
    "    for val in list_a:\n",
    "        jobs.append(add(val, 1))\n",
    "    \n",
    "    flow = Flow(jobs)\n",
    "    return Response(replace=flow)\n",
    "\n",
    "job1 = make_list(2)\n",
    "job2 = add_distributed(job1.output)\n",
    "flow = Flow([job1, job2])\n",
    "\n",
    "responses = run_locally(flow)"
   ]
  },
  {
   "cell_type": "code",
   "execution_count": 25,
   "id": "82e368e6",
   "metadata": {},
   "outputs": [
    {
     "name": "stdout",
     "output_type": "stream",
     "text": [
      "7291e79a-5282-4dcd-b3e6-e64e8f6d66e6: {1: Response(output=[2, 2, 2], detour=None, addition=None, replace=None, stored_data=None, stop_children=False, stop_jobflow=False)}\n",
      "ab37265d-115b-4322-b8d7-0aebd4fedf7a: {1: Response(output=None, detour=None, addition=None, replace=<jobflow.core.flow.Flow object at 0x000001A3C9E3DF40>, stored_data=None, stop_children=False, stop_jobflow=False)}\n",
      "c070dd14-10b3-403b-b331-6c1d0878390b: {1: Response(output=3, detour=None, addition=None, replace=None, stored_data=None, stop_children=False, stop_jobflow=False)}\n",
      "317bcdd3-7844-46e0-ab4d-c9064b5e1f12: {1: Response(output=3, detour=None, addition=None, replace=None, stored_data=None, stop_children=False, stop_jobflow=False)}\n",
      "67bbd11b-869b-466c-883f-f361648ee7a6: {1: Response(output=3, detour=None, addition=None, replace=None, stored_data=None, stop_children=False, stop_jobflow=False)}\n"
     ]
    }
   ],
   "source": [
    "for uuid, response in responses.items():\n",
    "    print(f\"{uuid}: {response}\")"
   ]
  },
  {
   "attachments": {},
   "cell_type": "markdown",
   "id": "dfeab63a",
   "metadata": {},
   "source": [
    "As sene above, there are several jobs that were run --- certainly more than the two we started with. The first job generates a list of 2's with a random length. The second job in the flow is what launches a job on each entry in the list. It is replaced by one job for each entry, hence it has no direct output. Then each newly generated job is run.\n"
   ]
  },
  {
   "attachments": {},
   "cell_type": "markdown",
   "id": "98052193",
   "metadata": {},
   "source": [
    "## The `Response(addition)` option\n"
   ]
  },
  {
   "attachments": {},
   "cell_type": "markdown",
   "id": "e7d78588",
   "metadata": {},
   "source": [
    "Beyond replacing a job with downstream jobs, there is also the option to add jobs to the current flow on-the-fly.\n",
    "\n",
    "Here we will create a simple flow that:\n",
    "\n",
    "1. Adds a value to a given number.\n",
    "2. If the output is less than 10, do the addition again. Otherwise, stop.\n"
   ]
  },
  {
   "cell_type": "code",
   "execution_count": 26,
   "id": "81870e55",
   "metadata": {},
   "outputs": [
    {
     "name": "stdout",
     "output_type": "stream",
     "text": [
      "2023-06-07 22:51:51,909 INFO Started executing jobs locally\n",
      "2023-06-07 22:51:51,911 INFO Starting job - add (2e07f7ce-55ec-449b-8546-4bf3d2a04619)\n",
      "2023-06-07 22:51:51,915 INFO Finished job - add (2e07f7ce-55ec-449b-8546-4bf3d2a04619)\n",
      "2023-06-07 22:51:51,919 INFO Starting job - add_with_logic (aa60349c-1ff8-4e20-992f-9722887def37)\n",
      "2023-06-07 22:51:51,926 INFO Finished job - add_with_logic (aa60349c-1ff8-4e20-992f-9722887def37)\n",
      "2023-06-07 22:51:51,930 INFO Starting job - add (a0e2c15d-d2c4-41ab-9816-334219f280fa)\n",
      "2023-06-07 22:51:51,934 INFO Finished job - add (a0e2c15d-d2c4-41ab-9816-334219f280fa)\n",
      "2023-06-07 22:51:51,936 INFO Finished executing jobs locally\n"
     ]
    }
   ],
   "source": [
    "@job\n",
    "def add(a, b):\n",
    "    return a + b\n",
    "\n",
    "@job\n",
    "def add_with_logic(a, b):\n",
    "    if a < 10:\n",
    "        return Response(addition=add(a, b))\n",
    "    \n",
    "job1 = add(1, 2)\n",
    "job2 = add_with_logic(job1.output, 2)\n",
    "flow = Flow([job1, job2])\n",
    "\n",
    "responses = run_locally(flow)"
   ]
  },
  {
   "cell_type": "code",
   "execution_count": 27,
   "id": "fdc68eb5",
   "metadata": {},
   "outputs": [
    {
     "name": "stdout",
     "output_type": "stream",
     "text": [
      "2e07f7ce-55ec-449b-8546-4bf3d2a04619: {1: Response(output=3, detour=None, addition=None, replace=None, stored_data=None, stop_children=False, stop_jobflow=False)}\n",
      "aa60349c-1ff8-4e20-992f-9722887def37: {1: Response(output=None, detour=None, addition=<jobflow.core.flow.Flow object at 0x000001A3C9CD2430>, replace=None, stored_data=None, stop_children=False, stop_jobflow=False)}\n",
      "a0e2c15d-d2c4-41ab-9816-334219f280fa: {1: Response(output=5, detour=None, addition=None, replace=None, stored_data=None, stop_children=False, stop_jobflow=False)}\n"
     ]
    }
   ],
   "source": [
    "for uuid, response in responses.items():\n",
    "    print(f\"{uuid}: {response}\")"
   ]
  },
  {
   "attachments": {},
   "cell_type": "markdown",
   "id": "997dd2a9",
   "metadata": {},
   "source": [
    "As you can see above, the addition job is correctly run twice. Now let's confirm that the addition job is only run once if the output of the first job is greater than 10.\n"
   ]
  },
  {
   "cell_type": "code",
   "execution_count": 28,
   "id": "27569bd7",
   "metadata": {},
   "outputs": [
    {
     "name": "stdout",
     "output_type": "stream",
     "text": [
      "2023-06-07 22:51:52,084 INFO Started executing jobs locally\n",
      "2023-06-07 22:51:52,087 INFO Starting job - add (d16042dd-d603-434e-ad7f-505177fc38aa)\n",
      "2023-06-07 22:51:52,090 INFO Finished job - add (d16042dd-d603-434e-ad7f-505177fc38aa)\n",
      "2023-06-07 22:51:52,093 INFO Starting job - add_with_logic (778b8a25-3be9-48b0-ad72-5b5c8e17e656)\n",
      "2023-06-07 22:51:52,098 INFO Finished job - add_with_logic (778b8a25-3be9-48b0-ad72-5b5c8e17e656)\n",
      "2023-06-07 22:51:52,100 INFO Finished executing jobs locally\n"
     ]
    }
   ],
   "source": [
    "@job\n",
    "def add(a, b):\n",
    "    return a + b\n",
    "\n",
    "@job\n",
    "def add_with_logic(a, b):\n",
    "    if a < 10:\n",
    "        return Response(addition=add(a, b))\n",
    "    \n",
    "job1 = add(1, 20)\n",
    "job2 = add_with_logic(job1.output, 20)\n",
    "flow = Flow([job1, job2])\n",
    "\n",
    "responses = run_locally(flow)"
   ]
  },
  {
   "cell_type": "code",
   "execution_count": 29,
   "id": "b8d0c011",
   "metadata": {},
   "outputs": [
    {
     "name": "stdout",
     "output_type": "stream",
     "text": [
      "d16042dd-d603-434e-ad7f-505177fc38aa: {1: Response(output=21, detour=None, addition=None, replace=None, stored_data=None, stop_children=False, stop_jobflow=False)}\n",
      "778b8a25-3be9-48b0-ad72-5b5c8e17e656: {1: Response(output=None, detour=None, addition=None, replace=None, stored_data=None, stop_children=False, stop_jobflow=False)}\n"
     ]
    }
   ],
   "source": [
    "for uuid, response in responses.items():\n",
    "    print(f\"{uuid}: {response}\")"
   ]
  },
  {
   "attachments": {},
   "cell_type": "markdown",
   "id": "49de1eae",
   "metadata": {},
   "source": [
    "Now, we see that the `Response(addition)` does not launch a new job.\n"
   ]
  },
  {
   "attachments": {},
   "cell_type": "markdown",
   "id": "5c0122e3",
   "metadata": {},
   "source": [
    "## The `Response(detour)` option\n"
   ]
  },
  {
   "attachments": {},
   "cell_type": "markdown",
   "id": "eca49a8b",
   "metadata": {},
   "source": [
    "The `Response(detour)` option behaves similarly to `Response(addition)`. The difference is that `Response(addition)` will add a job (or flow) to the current flow, while `Response(detour)` will no longer run the current flow and will switch to a parallel job or flow.\n"
   ]
  },
  {
   "cell_type": "code",
   "execution_count": 30,
   "id": "fee35a97",
   "metadata": {},
   "outputs": [
    {
     "name": "stdout",
     "output_type": "stream",
     "text": [
      "2023-06-07 22:51:52,232 INFO Started executing jobs locally\n",
      "2023-06-07 22:51:52,235 INFO Starting job - add (678ad075-8528-4cec-bcf0-af2da067b87f)\n",
      "2023-06-07 22:51:52,238 INFO Finished job - add (678ad075-8528-4cec-bcf0-af2da067b87f)\n",
      "2023-06-07 22:51:52,240 INFO Starting job - add_with_logic (87753486-d4d3-46ab-a3c9-f318b75bf904)\n",
      "2023-06-07 22:51:52,247 INFO Finished job - add_with_logic (87753486-d4d3-46ab-a3c9-f318b75bf904)\n",
      "2023-06-07 22:51:52,249 INFO Starting job - add (a6d49e68-13c6-47ad-a688-8eeba9df3cba)\n",
      "2023-06-07 22:51:52,251 INFO Finished job - add (a6d49e68-13c6-47ad-a688-8eeba9df3cba)\n",
      "2023-06-07 22:51:52,253 INFO Finished executing jobs locally\n"
     ]
    }
   ],
   "source": [
    "@job\n",
    "def add(a, b):\n",
    "    return a + b\n",
    "\n",
    "@job\n",
    "def add_with_logic(a, b):\n",
    "    if a < 10:\n",
    "        return Response(detour=add(a, b))\n",
    "    \n",
    "job1 = add(1, 2)\n",
    "job2 = add_with_logic(job1.output, 2)\n",
    "flow = Flow([job1, job2])\n",
    "\n",
    "responses = run_locally(flow)"
   ]
  },
  {
   "cell_type": "code",
   "execution_count": 31,
   "id": "b3b7e8ba",
   "metadata": {},
   "outputs": [
    {
     "name": "stdout",
     "output_type": "stream",
     "text": [
      "678ad075-8528-4cec-bcf0-af2da067b87f: {1: Response(output=3, detour=None, addition=None, replace=None, stored_data=None, stop_children=False, stop_jobflow=False)}\n",
      "87753486-d4d3-46ab-a3c9-f318b75bf904: {1: Response(output=None, detour=<jobflow.core.flow.Flow object at 0x000001A3C9E38C40>, addition=None, replace=None, stored_data=None, stop_children=False, stop_jobflow=False)}\n",
      "a6d49e68-13c6-47ad-a688-8eeba9df3cba: {1: Response(output=5, detour=None, addition=None, replace=None, stored_data=None, stop_children=False, stop_jobflow=False)}\n"
     ]
    }
   ],
   "source": [
    "for uuid, response in responses.items():\n",
    "    print(f\"{uuid}: {response}\")"
   ]
  },
  {
   "attachments": {},
   "cell_type": "markdown",
   "id": "69783c7e",
   "metadata": {},
   "source": [
    "For this toy example, both `Response(addition)` and `Response(detour)` behave identically.\n"
   ]
  }
 ],
 "metadata": {
  "kernelspec": {
   "display_name": "cms",
   "language": "python",
   "name": "python3"
  },
  "language_info": {
   "codemirror_mode": {
    "name": "ipython",
    "version": 3
   },
   "file_extension": ".py",
   "mimetype": "text/x-python",
   "name": "python",
   "nbconvert_exporter": "python",
   "pygments_lexer": "ipython3",
   "version": "3.9.16"
  }
 },
 "nbformat": 4,
 "nbformat_minor": 5
}
