{
 "cells": [
  {
   "attachments": {},
   "cell_type": "markdown",
   "id": "1b3c4fe2",
   "metadata": {},
   "source": [
    "# Makers\n",
    "\n",
    "In this tutorial, you will:\n",
    "\n",
    "- Learn about `Maker`s.\n",
    "- Understand how to use a `Maker` to update the parameters of jobs in a flow.\n"
   ]
  },
  {
   "attachments": {},
   "cell_type": "markdown",
   "id": "802ff2c1",
   "metadata": {},
   "source": [
    "## What is a `Maker`?\n",
    "\n",
    "A `Maker` is class that makes it convenient to update parameters on-the-fly in a workflow. It is best explained by example.\n",
    "\n",
    "Let's start by defining a simple `Maker` that either adds or multiplies two numbers together, which we will do twice to make a flow. Note that all classes inheriting from the `Maker` base class must have a `name` variable and a `make` method.\n"
   ]
  },
  {
   "cell_type": "code",
   "execution_count": 16,
   "id": "cd240e6d",
   "metadata": {},
   "outputs": [
    {
     "name": "stdout",
     "output_type": "stream",
     "text": [
      "2023-06-07 23:10:04,593 INFO Started executing jobs locally\n",
      "2023-06-07 23:10:04,596 INFO Starting job - Add Maker (fb2f2c62-2858-43e2-93cc-ca0eb7247278)\n",
      "2023-06-07 23:10:04,597 INFO Finished job - Add Maker (fb2f2c62-2858-43e2-93cc-ca0eb7247278)\n",
      "2023-06-07 23:10:04,598 INFO Starting job - Add Maker (b6ced349-79ec-44fb-bb3c-829817404353)\n",
      "2023-06-07 23:10:04,600 INFO Finished job - Add Maker (b6ced349-79ec-44fb-bb3c-829817404353)\n",
      "2023-06-07 23:10:04,601 INFO Finished executing jobs locally\n"
     ]
    }
   ],
   "source": [
    "from dataclasses import dataclass\n",
    "from jobflow import job, Flow, Maker\n",
    "from jobflow.managers.local import run_locally\n",
    "\n",
    "@dataclass\n",
    "class AddMaker(Maker):\n",
    "    name: str = \"Add Maker\"\n",
    "    operation: str = \"add\"\n",
    "\n",
    "    @job\n",
    "    def make(self, a, b):\n",
    "        if self.operation == \"add\":\n",
    "            return a + b\n",
    "        elif self.operation == \"mult\":\n",
    "            return a * b\n",
    "        else:\n",
    "            raise ValueError(f\"Unknown operation: {self.operation}\")\n",
    "\n",
    "\n",
    "job1 = AddMaker().make(a=2, b=3)\n",
    "job2 = AddMaker().make(a=job1.output, b=4)\n",
    "\n",
    "flow = Flow([job1, job2])\n",
    "responses = run_locally(flow)"
   ]
  },
  {
   "cell_type": "code",
   "execution_count": 17,
   "id": "cd7236f8",
   "metadata": {},
   "outputs": [
    {
     "name": "stdout",
     "output_type": "stream",
     "text": [
      "fb2f2c62-2858-43e2-93cc-ca0eb7247278 -> {1: Response(output=5, detour=None, addition=None, replace=None, stored_data=None, stop_children=False, stop_jobflow=False)}\n",
      "b6ced349-79ec-44fb-bb3c-829817404353 -> {1: Response(output=9, detour=None, addition=None, replace=None, stored_data=None, stop_children=False, stop_jobflow=False)}\n"
     ]
    }
   ],
   "source": [
    "for uuid, response in responses.items():\n",
    "    print(f\"{uuid} -> {response}\")"
   ]
  },
  {
   "attachments": {},
   "cell_type": "markdown",
   "id": "03f657b6",
   "metadata": {},
   "source": [
    "Right now, nothing particularly special has happened here. But what if you had a much more complex workflow with many steps and you wanted to change the `AddMaker` keyword arguments, but only for a few individual jobs in the flow? That's where the `Maker` comes in handy. Let's see how it works.\n"
   ]
  },
  {
   "cell_type": "code",
   "execution_count": 18,
   "id": "9546c42c",
   "metadata": {},
   "outputs": [],
   "source": [
    "from dataclasses import dataclass\n",
    "from jobflow import job, Flow, Maker\n",
    "from jobflow.managers.local import run_locally\n",
    "\n",
    "@dataclass\n",
    "class AddMaker(Maker):\n",
    "    name: str = \"Add Maker\"\n",
    "    operation: str = \"add\"\n",
    "\n",
    "    @job\n",
    "    def make(self, a, b):\n",
    "        if self.operation == \"add\":\n",
    "            return a + b\n",
    "        elif self.operation == \"mult\":\n",
    "            return a * b\n",
    "        else:\n",
    "            raise ValueError(f\"Unknown operation: {self.operation}\")\n",
    "\n",
    "@dataclass\n",
    "class SubtractMaker(Maker):\n",
    "    name: str = \"Subtract Maker\"\n",
    "\n",
    "    @job\n",
    "    def make(self, a, b):\n",
    "        return b - a\n",
    "\n",
    "job1 = AddMaker().make(a=2, b=3)\n",
    "job2 = SubtractMaker().make(a=job1.output, b=4)\n",
    "flow = Flow([job1, job2])"
   ]
  },
  {
   "cell_type": "code",
   "execution_count": 19,
   "id": "1b235d02",
   "metadata": {},
   "outputs": [
    {
     "name": "stdout",
     "output_type": "stream",
     "text": [
      "2023-06-07 23:10:04,843 INFO Started executing jobs locally\n",
      "2023-06-07 23:10:04,844 INFO Starting job - Add Maker (a4442883-8280-40eb-a153-d7d22ad29a54)\n",
      "2023-06-07 23:10:04,845 INFO Finished job - Add Maker (a4442883-8280-40eb-a153-d7d22ad29a54)\n",
      "2023-06-07 23:10:04,847 INFO Starting job - Subtract Maker (c061ea2f-698e-4ab6-adc6-ae014b7ef3eb)\n",
      "2023-06-07 23:10:04,848 INFO Finished job - Subtract Maker (c061ea2f-698e-4ab6-adc6-ae014b7ef3eb)\n",
      "2023-06-07 23:10:04,849 INFO Finished executing jobs locally\n"
     ]
    }
   ],
   "source": [
    "flow.update_maker_kwargs({\"operation\": \"mult\"}, name_filter=\"Add Maker\")\n",
    "responses = run_locally(flow)"
   ]
  },
  {
   "cell_type": "code",
   "execution_count": 20,
   "id": "150224de",
   "metadata": {},
   "outputs": [
    {
     "name": "stdout",
     "output_type": "stream",
     "text": [
      "a4442883-8280-40eb-a153-d7d22ad29a54 -> {1: Response(output=6, detour=None, addition=None, replace=None, stored_data=None, stop_children=False, stop_jobflow=False)}\n",
      "c061ea2f-698e-4ab6-adc6-ae014b7ef3eb -> {1: Response(output=-2, detour=None, addition=None, replace=None, stored_data=None, stop_children=False, stop_jobflow=False)}\n"
     ]
    }
   ],
   "source": [
    "for uuid, response in responses.items():\n",
    "    print(f\"{uuid} -> {response}\")"
   ]
  },
  {
   "attachments": {},
   "cell_type": "markdown",
   "id": "1b0479a1",
   "metadata": {},
   "source": [
    "In this example, we have updated the keyword arguments (\"kwargs\") of jobs in a flow using a `name_filter` and the `update_maker_kwargs` function, which functions because the classes in the flow are themselves `Maker` objects.\n",
    "\n",
    "Of course, we could have simply done `job1 = AddMaker(operation=\"mult\").make(a=2, b=3)` to begin with, but in practice if you were to have instead impotred this flow from some external Python package, you might not be able to modify the `AddMaker` class directly. In this case, the `Maker` class provides a convenient way to update the parameters of jobs in a flow without having to redefine the flow itself."
   ]
  }
 ],
 "metadata": {
  "kernelspec": {
   "display_name": "cms",
   "language": "python",
   "name": "python3"
  },
  "language_info": {
   "codemirror_mode": {
    "name": "ipython",
    "version": 3
   },
   "file_extension": ".py",
   "mimetype": "text/x-python",
   "name": "python",
   "nbconvert_exporter": "python",
   "pygments_lexer": "ipython3",
   "version": "3.9.16"
  }
 },
 "nbformat": 4,
 "nbformat_minor": 5
}
