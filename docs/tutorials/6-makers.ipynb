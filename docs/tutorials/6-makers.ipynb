{
 "cells": [
  {
   "attachments": {},
   "cell_type": "markdown",
   "id": "1b3c4fe2",
   "metadata": {},
   "source": [
    "# Makers\n",
    "\n",
    "In this tutorial, you will:\n",
    "\n",
    "- Learn about `Maker`s.\n",
    "- Understand how to use a `Maker` to update the parameters of jobs in a flow.\n"
   ]
  },
  {
   "attachments": {},
   "cell_type": "markdown",
   "id": "802ff2c1",
   "metadata": {},
   "source": [
    "## What is a `Maker`?\n",
    "\n",
    "A `Maker` is class that makes it convenient to update parameters on-the-fly in a workflow. It is best explained by example.\n",
    "\n",
    "Let's start by defining a simple `Maker` that either adds or multiplies two numbers together, which we will do twice to make a flow. Note that all classes inheriting from the `Maker` base class must have a `name` variable and a `make` method.\n"
   ]
  },
  {
   "cell_type": "code",
   "execution_count": 11,
   "id": "cd240e6d",
   "metadata": {},
   "outputs": [
    {
     "name": "stdout",
     "output_type": "stream",
     "text": [
      "2023-06-07 23:09:07,830 INFO Started executing jobs locally\n",
      "2023-06-07 23:09:07,834 INFO Starting job - Add Maker (65b79c8c-fd18-4cd2-9207-19c027ad2fa9)\n",
      "2023-06-07 23:09:07,836 INFO Finished job - Add Maker (65b79c8c-fd18-4cd2-9207-19c027ad2fa9)\n",
      "2023-06-07 23:09:07,837 INFO Starting job - Add Maker (e9f64f22-d12d-45ca-898e-81e59a0c300b)\n",
      "2023-06-07 23:09:07,839 INFO Finished job - Add Maker (e9f64f22-d12d-45ca-898e-81e59a0c300b)\n",
      "2023-06-07 23:09:07,839 INFO Finished executing jobs locally\n"
     ]
    }
   ],
   "source": [
    "from dataclasses import dataclass\n",
    "from jobflow import job, Flow, Maker\n",
    "from jobflow.managers.local import run_locally\n",
    "\n",
    "@dataclass\n",
    "class AddMaker(Maker):\n",
    "    name: str = \"Add Maker\"\n",
    "    operation: str = \"add\"\n",
    "\n",
    "    @job\n",
    "    def make(self, a, b):\n",
    "        if self.operation == \"add\":\n",
    "            return a + b\n",
    "        elif self.operation == \"mult\":\n",
    "            return a * b\n",
    "        else:\n",
    "            raise ValueError(f\"Unknown operation: {self.operation}\")\n",
    "\n",
    "\n",
    "job1 = AddMaker().make(a=2, b=3)\n",
    "job2 = AddMaker().make(a=job1.output, b=4)\n",
    "\n",
    "flow = Flow([job1, job2])\n",
    "responses = run_locally(flow)"
   ]
  },
  {
   "cell_type": "code",
   "execution_count": 12,
   "id": "cd7236f8",
   "metadata": {},
   "outputs": [
    {
     "name": "stdout",
     "output_type": "stream",
     "text": [
      "65b79c8c-fd18-4cd2-9207-19c027ad2fa9 -> {1: Response(output=5, detour=None, addition=None, replace=None, stored_data=None, stop_children=False, stop_jobflow=False)}\n",
      "e9f64f22-d12d-45ca-898e-81e59a0c300b -> {1: Response(output=9, detour=None, addition=None, replace=None, stored_data=None, stop_children=False, stop_jobflow=False)}\n"
     ]
    }
   ],
   "source": [
    "for uuid, response in responses.items():\n",
    "    print(f\"{uuid} -> {response}\")"
   ]
  },
  {
   "attachments": {},
   "cell_type": "markdown",
   "id": "03f657b6",
   "metadata": {},
   "source": [
    "Right now, nothing particularly special has happened here. But what if you had a much more complex workflow with many steps and you wanted to change the `AddMaker` keyword arguments, but only for a few individual jobs in the flow? That's where the `Maker` comes in handy. Let's see how it works.\n"
   ]
  },
  {
   "cell_type": "code",
   "execution_count": 13,
   "id": "9546c42c",
   "metadata": {},
   "outputs": [],
   "source": [
    "from dataclasses import dataclass\n",
    "from jobflow import job, Flow, Maker\n",
    "from jobflow.managers.local import run_locally\n",
    "\n",
    "@dataclass\n",
    "class AddMaker(Maker):\n",
    "    name: str = \"Add Maker\"\n",
    "    operation: str = \"add\"\n",
    "\n",
    "    @job\n",
    "    def make(self, a, b):\n",
    "        if self.operation == \"add\":\n",
    "            return a + b\n",
    "        elif self.operation == \"mult\":\n",
    "            return a * b\n",
    "        else:\n",
    "            raise ValueError(f\"Unknown operation: {self.operation}\")\n",
    "\n",
    "@dataclass\n",
    "class SubtractMaker(Maker):\n",
    "    name: str = \"Subtract Maker\"\n",
    "\n",
    "    @job\n",
    "    def make(self, a, b):\n",
    "        return b - a\n",
    "\n",
    "job1 = AddMaker().make(a=2, b=3)\n",
    "job2 = SubtractMaker().make(a=job1.output, b=4)\n",
    "flow = Flow([job1, job2])"
   ]
  },
  {
   "cell_type": "code",
   "execution_count": 14,
   "id": "1b235d02",
   "metadata": {},
   "outputs": [
    {
     "name": "stdout",
     "output_type": "stream",
     "text": [
      "2023-06-07 23:09:08,080 INFO Started executing jobs locally\n",
      "2023-06-07 23:09:08,081 INFO Starting job - Add Maker (81318e37-b1f5-4cd8-a189-46a6c6b427a1)\n",
      "2023-06-07 23:09:08,083 INFO Finished job - Add Maker (81318e37-b1f5-4cd8-a189-46a6c6b427a1)\n",
      "2023-06-07 23:09:08,084 INFO Starting job - Subtract Maker (384c2c77-2640-4187-8b37-9c1c2cab0384)\n",
      "2023-06-07 23:09:08,087 INFO Finished job - Subtract Maker (384c2c77-2640-4187-8b37-9c1c2cab0384)\n",
      "2023-06-07 23:09:08,089 INFO Finished executing jobs locally\n"
     ]
    }
   ],
   "source": [
    "flow.update_maker_kwargs({\"operation\": \"mult\"}, name_filter=\"Add Maker\")\n",
    "responses = run_locally(flow)"
   ]
  },
  {
   "cell_type": "code",
   "execution_count": 15,
   "id": "150224de",
   "metadata": {},
   "outputs": [
    {
     "name": "stdout",
     "output_type": "stream",
     "text": [
      "81318e37-b1f5-4cd8-a189-46a6c6b427a1 -> {1: Response(output=6, detour=None, addition=None, replace=None, stored_data=None, stop_children=False, stop_jobflow=False)}\n",
      "384c2c77-2640-4187-8b37-9c1c2cab0384 -> {1: Response(output=-2, detour=None, addition=None, replace=None, stored_data=None, stop_children=False, stop_jobflow=False)}\n"
     ]
    }
   ],
   "source": [
    "for uuid, response in responses.items():\n",
    "    print(f\"{uuid} -> {response}\")"
   ]
  },
  {
   "attachments": {},
   "cell_type": "markdown",
   "id": "1b0479a1",
   "metadata": {},
   "source": [
    "In this example, we have updated the keyword arguments (\"kwargs\") of jobs in a flow using a `name_filter` and the `update_maker_kwargs` function, which functions because the classes in the flow are themselves `Maker` objects."
   ]
  }
 ],
 "metadata": {
  "kernelspec": {
   "display_name": "cms",
   "language": "python",
   "name": "python3"
  },
  "language_info": {
   "codemirror_mode": {
    "name": "ipython",
    "version": 3
   },
   "file_extension": ".py",
   "mimetype": "text/x-python",
   "name": "python",
   "nbconvert_exporter": "python",
   "pygments_lexer": "ipython3",
   "version": "3.9.16"
  }
 },
 "nbformat": 4,
 "nbformat_minor": 5
}
